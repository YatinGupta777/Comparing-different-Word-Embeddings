{
  "nbformat": 4,
  "nbformat_minor": 0,
  "metadata": {
    "colab": {
      "name": "Comparing word embeddings.ipynb",
      "provenance": [],
      "collapsed_sections": [],
      "authorship_tag": "ABX9TyPVOR0STTvI5sH8rsH3KZj5",
      "include_colab_link": true
    },
    "kernelspec": {
      "name": "python3",
      "display_name": "Python 3"
    }
  },
  "cells": [
    {
      "cell_type": "markdown",
      "metadata": {
        "id": "view-in-github",
        "colab_type": "text"
      },
      "source": [
        "<a href=\"https://colab.research.google.com/github/YatinGupta777/Comparing-different-Word-Embeddings/blob/master/Comparing_word_embeddings.ipynb\" target=\"_parent\"><img src=\"https://colab.research.google.com/assets/colab-badge.svg\" alt=\"Open In Colab\"/></a>"
      ]
    },
    {
      "cell_type": "code",
      "metadata": {
        "id": "2HguO-V4T-qf",
        "colab_type": "code",
        "colab": {}
      },
      "source": [
        ""
      ],
      "execution_count": 0,
      "outputs": []
    },
    {
      "cell_type": "code",
      "metadata": {
        "id": "IZ-qHdfe9aJz",
        "colab_type": "code",
        "colab": {
          "base_uri": "https://localhost:8080/",
          "height": 122
        },
        "outputId": "91a8ac3f-60e9-436d-827f-b61a9795c536"
      },
      "source": [
        "# Run this cell to mount your Google Drive.\n",
        "from google.colab import drive\n",
        "drive.mount('/content/drive')"
      ],
      "execution_count": 2,
      "outputs": [
        {
          "output_type": "stream",
          "text": [
            "Go to this URL in a browser: https://accounts.google.com/o/oauth2/auth?client_id=947318989803-6bn6qk8qdgf4n4g3pfee6491hc0brc4i.apps.googleusercontent.com&redirect_uri=urn%3aietf%3awg%3aoauth%3a2.0%3aoob&response_type=code&scope=email%20https%3a%2f%2fwww.googleapis.com%2fauth%2fdocs.test%20https%3a%2f%2fwww.googleapis.com%2fauth%2fdrive%20https%3a%2f%2fwww.googleapis.com%2fauth%2fdrive.photos.readonly%20https%3a%2f%2fwww.googleapis.com%2fauth%2fpeopleapi.readonly\n",
            "\n",
            "Enter your authorization code:\n",
            "··········\n",
            "Mounted at /content/drive\n"
          ],
          "name": "stdout"
        }
      ]
    },
    {
      "cell_type": "code",
      "metadata": {
        "id": "agANsUK09auU",
        "colab_type": "code",
        "colab": {
          "base_uri": "https://localhost:8080/",
          "height": 411
        },
        "outputId": "5ce99d15-e69d-4b1c-842d-ba2cf54a8f29"
      },
      "source": [
        "from gensim.models import KeyedVectors\n",
        "from gensim.scripts.glove2word2vec import glove2word2vec \n",
        "from sklearn.metrics.pairwise import cosine_similarity\n",
        "\n",
        "data_location = \"/content/drive/My Drive/Colab Notebooks/NLP_Datasets/\"\n",
        "\n",
        "filename = data_location + \"MTURK-771.csv\"\n",
        "for i in range(7):\n",
        "   #Not Running this rn\n",
        "    model = False\n",
        "    if i == -1:\n",
        "        # Google word2vec\n",
        "        model = KeyedVectors.load_word2vec_format(data_location + 'GoogleNews-vectors-negative300.bin', binary=True)\n",
        "    elif i == 1:\n",
        "        # Glove\n",
        "        #glove_input_file = 'glove.6B.200d.txt'\n",
        "        word2vec_output_file = data_location+ 'glove.6B.50d.txt.word2vec'\n",
        "        #glove2word2vec(glove_input_file, word2vec_output_file)\n",
        "        model = KeyedVectors.load_word2vec_format(word2vec_output_file, binary=False)\n",
        "\n",
        "    elif i== 2:\n",
        "        word2vec_output_file = data_location + 'glove.6B.100d.txt.word2vec'\n",
        "        model = KeyedVectors.load_word2vec_format(word2vec_output_file, binary=False)\n",
        "    elif i == 3:\n",
        "        word2vec_output_file = data_location + 'glove.6B.200d.txt.word2vec'\n",
        "        model = KeyedVectors.load_word2vec_format(word2vec_output_file, binary=False)\n",
        "    elif i == 4:\n",
        "        word2vec_output_file = data_location + 'glove.6B.300d.txt.word2vec'\n",
        "        model = KeyedVectors.load_word2vec_format(word2vec_output_file, binary=False)\n",
        "    elif i == 5:\n",
        "        # FastText\n",
        "        model = KeyedVectors.load_word2vec_format(data_location + 'wiki-news-300d-1M.vec')    \n",
        "    elif i == 6:\n",
        "        model = KeyedVectors.load_word2vec_format(data_location + 'wiki-news-300d-1M-subword.vec')\n",
        "\n",
        "    if(model != False ):\n",
        "      dev = 0\n",
        "      length = 0\n",
        "      final = []\n",
        "      summ = 0\n",
        "      nf = 0\n",
        "      with open(filename) as f:\n",
        "          lis = [line.split() for line in f]   \n",
        "          # create a list of lists\n",
        "          length = len(lis)\n",
        "          for i, x in enumerate(lis):              #print the list items \n",
        "              if (i == 0):\n",
        "                  continue\n",
        "              t = x[0].split(',')\n",
        "              #t = x # For space separated files\n",
        "              a = t[0]\n",
        "              b = t[1]\n",
        "              c = t[2]\n",
        "              c = float(c)*2\n",
        "              summ += float(c)\n",
        "              try:\n",
        "                  res = model.similarity(a,b)*10\n",
        "              except KeyError:\n",
        "                  res = float(c)\n",
        "                  nf = nf + 1\n",
        "              dev = dev + abs(res - float(c))\n",
        "      dev = dev/length        \n",
        "      final.append(dev)\n",
        "      summ = summ/length\n",
        "      percentage = (dev/summ)*100\n",
        "      print (dev)\n",
        "      print(percentage)\n",
        "   #   print(nf)"
      ],
      "execution_count": 8,
      "outputs": [
        {
          "output_type": "stream",
          "text": [
            "/usr/local/lib/python3.6/dist-packages/smart_open/smart_open_lib.py:253: UserWarning: This function is deprecated, use smart_open.open instead. See the migration notes for details: https://github.com/RaRe-Technologies/smart_open/blob/master/README.rst#migrating-to-the-new-open-function\n",
            "  'See the migration notes for details: %s' % _MIGRATION_NOTES_URL\n",
            "/usr/local/lib/python3.6/dist-packages/gensim/matutils.py:737: FutureWarning: Conversion of the second argument of issubdtype from `int` to `np.signedinteger` is deprecated. In future, it will be treated as `np.int64 == np.dtype(int).type`.\n",
            "  if np.issubdtype(vec.dtype, np.int):\n"
          ],
          "name": "stderr"
        },
        {
          "output_type": "stream",
          "text": [
            "1.885031208130937\n",
            "31.862906543806048\n",
            "0\n",
            "2.194916763477848\n",
            "37.10093891520868\n",
            "0\n",
            "2.7334531018140975\n",
            "46.20388264623869\n",
            "0\n",
            "3.22177590257194\n",
            "54.458060983786915\n",
            "0\n",
            "1.6813488722442496\n",
            "28.420039813012465\n",
            "0\n",
            "1.5175016876159342\n",
            "25.650511378279457\n",
            "0\n"
          ],
          "name": "stdout"
        }
      ]
    }
  ]
}